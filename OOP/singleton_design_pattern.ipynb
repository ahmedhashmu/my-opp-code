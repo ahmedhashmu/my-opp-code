{
 "cells": [
  {
   "cell_type": "markdown",
   "id": "166ce93a",
   "metadata": {},
   "source": [
    "# **Design Patterns**"
   ]
  },
  {
   "cell_type": "markdown",
   "id": "c2c3961c",
   "metadata": {},
   "source": [
    "## **1. Singleton Design Pattern**\n",
    "The Singleton Design Pattern ensures that a class has only one instance throughout the program and provides a global point of access to that instance."
   ]
  },
  {
   "cell_type": "code",
   "execution_count": 1,
   "id": "f1f33932",
   "metadata": {},
   "outputs": [],
   "source": [
    "class SingletonCounter:\n",
    "    _has_instance = None\n",
    "    count = 0\n",
    "    \n",
    "    @classmethod\n",
    "    def increment(cls):\n",
    "        cls.count+=1\n",
    "    \n",
    "    @classmethod\n",
    "    def get_count(cls):\n",
    "        print(f\"Count: {cls.count}\")\n",
    "        \n",
    "    def __new__(cls):\n",
    "        if cls._has_instance is None:\n",
    "            cls._has_instance= super().__new__(cls)\n",
    "        else:\n",
    "            print(\"Using the same instance\")\n",
    "        return cls._has_instance"
   ]
  },
  {
   "cell_type": "code",
   "execution_count": 2,
   "id": "b9149784",
   "metadata": {},
   "outputs": [
    {
     "name": "stdout",
     "output_type": "stream",
     "text": [
      "Using the same instance\n",
      "Count: 3\n",
      "True\n"
     ]
    }
   ],
   "source": [
    "c1 = SingletonCounter()\n",
    "c1.increment()\n",
    "c1.increment()\n",
    "c1.increment()\n",
    "c2=SingletonCounter()\n",
    "c2.get_count()\n",
    "print(c1 is c2)  # The **is** keyword checks object identity, not just equality."
   ]
  }
 ],
 "metadata": {
  "kernelspec": {
   "display_name": "Python 3",
   "language": "python",
   "name": "python3"
  },
  "language_info": {
   "codemirror_mode": {
    "name": "ipython",
    "version": 3
   },
   "file_extension": ".py",
   "mimetype": "text/x-python",
   "name": "python",
   "nbconvert_exporter": "python",
   "pygments_lexer": "ipython3",
   "version": "3.13.2"
  }
 },
 "nbformat": 4,
 "nbformat_minor": 5
}
