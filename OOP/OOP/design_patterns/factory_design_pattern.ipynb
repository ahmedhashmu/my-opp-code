{
 "cells": [
  {
   "cell_type": "markdown",
   "id": "f79496ca",
   "metadata": {},
   "source": [
    "## **2. Factory Design Pattern**\n",
    "The Factory Design Pattern is a creational pattern that provides an interface for creating objects in a superclass, but allows subclasses to alter the type of objects that will be created."
   ]
  },
  {
   "cell_type": "code",
   "execution_count": 9,
   "id": "3af222dd",
   "metadata": {},
   "outputs": [],
   "source": [
    "class Notification:\n",
    "    def send(self):\n",
    "        pass\n",
    "    \n",
    "class EmailNotification(Notification):\n",
    "    def send(self):\n",
    "        print(\"Send email notification\")\n",
    "        \n",
    "class SMSNotification(Notification):\n",
    "    def send(self):\n",
    "        print(\"Send sms notification\")\n",
    "        \n",
    "class NotificationFactory:\n",
    "    @staticmethod\n",
    "    def send_notification(type:str) -> Notification:\n",
    "        if type==\"email\":\n",
    "           return EmailNotification()\n",
    "        elif type==\"sms\":\n",
    "           return SMSNotification()\n",
    "        else:\n",
    "            raise ValueError(f\"Unsupported notification type: {type}\")"
   ]
  },
  {
   "cell_type": "code",
   "execution_count": 10,
   "id": "95d591da",
   "metadata": {},
   "outputs": [
    {
     "name": "stdout",
     "output_type": "stream",
     "text": [
      "Send email notification\n"
     ]
    }
   ],
   "source": [
    "n1 = NotificationFactory.send_notification(\"email\")\n",
    "n1.send()"
   ]
  },
  {
   "cell_type": "code",
   "execution_count": 11,
   "id": "b81d1130",
   "metadata": {},
   "outputs": [
    {
     "name": "stdout",
     "output_type": "stream",
     "text": [
      "Send sms notification\n"
     ]
    }
   ],
   "source": [
    "n2=NotificationFactory.send_notification(\"sms\")\n",
    "n2.send()"
   ]
  },
  {
   "cell_type": "code",
   "execution_count": 12,
   "id": "fb9476a9",
   "metadata": {},
   "outputs": [],
   "source": [
    "# ERROR\n",
    "# n3=NotificationFactory.send_notification(\"abc\")\n",
    "# n3.send()"
   ]
  },
  {
   "cell_type": "markdown",
   "id": "99a66aa0",
   "metadata": {},
   "source": [
    "## Vehicle Example"
   ]
  },
  {
   "cell_type": "code",
   "execution_count": 13,
   "id": "754cd003",
   "metadata": {},
   "outputs": [],
   "source": [
    "class Vehicle:\n",
    "    def start_engine(self):\n",
    "        pass\n",
    "\n",
    "class Car(Vehicle):\n",
    "    def start_engine(self):\n",
    "        print(\"Car started\")\n",
    "        \n",
    "class Truck(Vehicle):\n",
    "    def start_engine(self):\n",
    "        print(\"Truck started\")\n",
    "        \n",
    "class Bike(Vehicle):\n",
    "    def start_engine(self):\n",
    "        print(\"Bike started\")\n",
    "        \n",
    "class VehicleFactory:\n",
    "    _vehicles = {\"car\":Car(),\"bike\":Bike(),\"truck\":Truck()}\n",
    "    @staticmethod\n",
    "    def start_vehicle(v_type):\n",
    "        if v_type==\"car\":\n",
    "            return Car()\n",
    "        elif v_type==\"truck\":\n",
    "            return Truck()\n",
    "        elif v_type==\"bike\":\n",
    "            return Bike()\n",
    "        else: \n",
    "            raise ValueError(f\"Incorrect Vehicle type: {v_type}\")"
   ]
  },
  {
   "cell_type": "code",
   "execution_count": 14,
   "id": "045f1dd7",
   "metadata": {},
   "outputs": [
    {
     "name": "stdout",
     "output_type": "stream",
     "text": [
      "Truck started\n"
     ]
    }
   ],
   "source": [
    "v1 = VehicleFactory.start_vehicle(\"truck\")\n",
    "v1.start_engine()"
   ]
  },
  {
   "cell_type": "code",
   "execution_count": 15,
   "id": "e8b56fe0",
   "metadata": {},
   "outputs": [
    {
     "name": "stdout",
     "output_type": "stream",
     "text": [
      "Bike started\n"
     ]
    }
   ],
   "source": [
    "v2 = VehicleFactory.start_vehicle(\"bike\")\n",
    "v2.start_engine()"
   ]
  },
  {
   "cell_type": "code",
   "execution_count": 16,
   "id": "74caf465",
   "metadata": {},
   "outputs": [
    {
     "name": "stdout",
     "output_type": "stream",
     "text": [
      "Car started\n"
     ]
    }
   ],
   "source": [
    "\n",
    "v3 = VehicleFactory.start_vehicle(\"car\")\n",
    "v3.start_engine()"
   ]
  },
  {
   "cell_type": "code",
   "execution_count": 17,
   "id": "4ea027cf",
   "metadata": {},
   "outputs": [],
   "source": [
    "\n",
    "# ERROR\n",
    "# v4 = VehicleFactory.start_vehicle(\"abc\")\n",
    "# v4.start_engine()"
   ]
  }
 ],
 "metadata": {
  "kernelspec": {
   "display_name": "Python 3",
   "language": "python",
   "name": "python3"
  },
  "language_info": {
   "codemirror_mode": {
    "name": "ipython",
    "version": 3
   },
   "file_extension": ".py",
   "mimetype": "text/x-python",
   "name": "python",
   "nbconvert_exporter": "python",
   "pygments_lexer": "ipython3",
   "version": "3.13.2"
  }
 },
 "nbformat": 4,
 "nbformat_minor": 5
}
