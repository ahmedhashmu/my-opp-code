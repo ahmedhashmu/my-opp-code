{
 "cells": [
  {
   "cell_type": "markdown",
   "id": "5f2e619a",
   "metadata": {},
   "source": [
    "# **@propery decorator**\n",
    "- The **@property** decorator in Python is used to define methods in a class that behave like attributes, enabling controlled access to instance variables.\n",
    "- It is used to implement getter, setter, and deleter methods in an elegant and Pythonic way.\n",
    "\n",
    "### How it works:\n",
    "It allow us to:\n",
    "- Use a method like an **attribute (getter)**.\n",
    "- Attach validation logic when **setting a value (setter)**.\n",
    "- Define logic to **delete an attribute (deleter)**."
   ]
  },
  {
   "cell_type": "code",
   "execution_count": 10,
   "id": "c823c618",
   "metadata": {},
   "outputs": [],
   "source": [
    "class Student:\n",
    "    def __init__(self, name, rollNo, eng_marks, urdu_marks, maths_marks, total_marks ):\n",
    "        self.__name = name\n",
    "        self.__rollNo = rollNo\n",
    "        self.__eng_marks = eng_marks\n",
    "        self.__urdu_marks = urdu_marks\n",
    "        self.__maths_marks = maths_marks\n",
    "        self.__total_marks = total_marks\n",
    "     \n",
    "    @property    \n",
    "    def name(self):\n",
    "        return self.__name\n",
    "    \n",
    "    @name.setter\n",
    "    def name(self, updated_name):\n",
    "        self.__name = updated_name\n",
    "        \n",
    "    @name.deleter\n",
    "    def name(self):\n",
    "        self.__name = None\n",
    "    \n",
    "    @property\n",
    "    def rollNo(self):\n",
    "        return self.__rollNo\n",
    "\n",
    "    @rollNo.setter\n",
    "    def rollNo(self, updated_rollNo):\n",
    "        self.__rollNo = updated_rollNo\n",
    "\n",
    "    @rollNo.deleter\n",
    "    def rollNo(self):\n",
    "        self.__rollNo = None\n",
    "        \n",
    "    @property\n",
    "    def percentage(self):\n",
    "        calculate_percentage = round(((self.__eng_marks + self.__urdu_marks + self.__maths_marks) / self.__total_marks)*100, 2)\n",
    "        return calculate_percentage"
   ]
  },
  {
   "cell_type": "code",
   "execution_count": 11,
   "id": "362d3668",
   "metadata": {},
   "outputs": [],
   "source": [
    "stud1 = Student(\"abc\",1234, 68, 57, 87,300)"
   ]
  },
  {
   "cell_type": "code",
   "execution_count": 12,
   "id": "adddbe5d",
   "metadata": {},
   "outputs": [],
   "source": [
    "stud1.name = \"Shahhid\""
   ]
  },
  {
   "cell_type": "code",
   "execution_count": 13,
   "id": "ccff5d98",
   "metadata": {},
   "outputs": [
    {
     "data": {
      "text/plain": [
       "'Shahhid'"
      ]
     },
     "execution_count": 13,
     "metadata": {},
     "output_type": "execute_result"
    }
   ],
   "source": [
    "stud1.name"
   ]
  },
  {
   "cell_type": "code",
   "execution_count": 14,
   "id": "4788c144",
   "metadata": {},
   "outputs": [],
   "source": [
    "stud1.rollNo = 862482"
   ]
  },
  {
   "cell_type": "code",
   "execution_count": 15,
   "id": "ab1daecc",
   "metadata": {},
   "outputs": [
    {
     "data": {
      "text/plain": [
       "862482"
      ]
     },
     "execution_count": 15,
     "metadata": {},
     "output_type": "execute_result"
    }
   ],
   "source": [
    "stud1.rollNo"
   ]
  },
  {
   "cell_type": "code",
   "execution_count": 16,
   "id": "479fe303",
   "metadata": {},
   "outputs": [],
   "source": [
    "del stud1.name\n",
    "stud1.name"
   ]
  },
  {
   "cell_type": "code",
   "execution_count": 17,
   "id": "dbde616f",
   "metadata": {},
   "outputs": [],
   "source": [
    "stud1.name"
   ]
  },
  {
   "cell_type": "code",
   "execution_count": 18,
   "id": "e68655ef",
   "metadata": {},
   "outputs": [
    {
     "data": {
      "text/plain": [
       "70.67"
      ]
     },
     "execution_count": 18,
     "metadata": {},
     "output_type": "execute_result"
    }
   ],
   "source": [
    "stud1.percentage"
   ]
  }
 ],
 "metadata": {
  "kernelspec": {
   "display_name": "Python 3",
   "language": "python",
   "name": "python3"
  },
  "language_info": {
   "codemirror_mode": {
    "name": "ipython",
    "version": 3
   },
   "file_extension": ".py",
   "mimetype": "text/x-python",
   "name": "python",
   "nbconvert_exporter": "python",
   "pygments_lexer": "ipython3",
   "version": "3.13.2"
  }
 },
 "nbformat": 4,
 "nbformat_minor": 5
}
