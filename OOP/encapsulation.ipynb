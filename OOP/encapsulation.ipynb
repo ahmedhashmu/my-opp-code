{
 "cells": [
  {
   "cell_type": "markdown",
   "id": "60014814",
   "metadata": {},
   "source": [
    "### Encapsulation\n",
    "* Encapsulation (providing a public access to the secrets using method)"
   ]
  },
  {
   "cell_type": "code",
   "execution_count": 1,
   "id": "acce5806",
   "metadata": {},
   "outputs": [
    {
     "name": "stdout",
     "output_type": "stream",
     "text": [
      "Shahab\n",
      "Username: Shahab\n",
      "Shahab is Sleeping\n",
      "2000\n",
      "Accessed using special method: 2000\n",
      "4000\n"
     ]
    }
   ],
   "source": [
    "class Person:\n",
    "    def __init__(self, name, height, weight, secret):\n",
    "        self._name = name  # protected property (should be accessed within class and its sub-classes)\n",
    "        self.height = height\n",
    "        self.weight = weight\n",
    "        self.__secret = secret  # private property (we can get outside using getter function or using special method)\n",
    "\n",
    "    def get_name(self):\n",
    "        return f\"Username: {self._name}\"\n",
    "\n",
    "    def sleep(self):\n",
    "        return f\"{self._name} is Sleeping\"\n",
    "\n",
    "    def eat(self):\n",
    "        print(\"Eating\")\n",
    "\n",
    "    def get_secret(self):\n",
    "        return self.__secret\n",
    "\n",
    "    def update_secret(self):\n",
    "        self.__secret = 4000\n",
    "\n",
    "\n",
    "person1 = Person(\"Shahab\", 6.2, 67, 2000)\n",
    "print(\n",
    "    person1._name\n",
    ")  # ⚠️ Valid, but discouraged by convention(because its a protected property)\n",
    "print(person1.get_name())  # ✅ Valid\n",
    "\n",
    "print(person1.sleep())\n",
    "# print(person1.__secret)  # returns error because it's a private property and we cannot access it directly\n",
    "\n",
    "print(person1.get_secret())  # can be access directly using getter function\n",
    "\n",
    "print(\n",
    "    f\"Accessed using special method: {person1._Person__secret}\"\n",
    ")  # this is a specific method for accessing private property\n",
    "\n",
    "person1.update_secret()\n",
    "\n",
    "print(person1.get_secret())"
   ]
  },
  {
   "cell_type": "markdown",
   "id": "0f511e99",
   "metadata": {},
   "source": [
    "##### Example 2"
   ]
  },
  {
   "cell_type": "code",
   "execution_count": 2,
   "id": "a689ec20",
   "metadata": {},
   "outputs": [
    {
     "name": "stdout",
     "output_type": "stream",
     "text": [
      "21312\n",
      "Account Password: 56756721\n",
      "Resetted Password: new23323\n"
     ]
    }
   ],
   "source": [
    "class Account:\n",
    "    def __init__(self, accountNo, accountPass):\n",
    "        self.accountNo = accountNo\n",
    "        self.__accountPass = accountPass\n",
    "\n",
    "    def getAccountPass(self):\n",
    "        return self.__accountPass\n",
    "\n",
    "    def reset_pass(self, password):\n",
    "        self.__accountPass = password\n",
    "        print(f\"Resetted Password: {self.__accountPass}\")\n",
    "\n",
    "\n",
    "user1 = Account(\"21312\", 56756721)\n",
    "print(user1.accountNo)\n",
    "# print(user1.__accountPass) # will return error because its a private property\n",
    "print(f\"Account Password: {user1.getAccountPass()}\")\n",
    "\n",
    "user1.reset_pass(\"new23323\")"
   ]
  }
 ],
 "metadata": {
  "kernelspec": {
   "display_name": "Python 3",
   "language": "python",
   "name": "python3"
  },
  "language_info": {
   "codemirror_mode": {
    "name": "ipython",
    "version": 3
   },
   "file_extension": ".py",
   "mimetype": "text/x-python",
   "name": "python",
   "nbconvert_exporter": "python",
   "pygments_lexer": "ipython3",
   "version": "3.13.2"
  }
 },
 "nbformat": 4,
 "nbformat_minor": 5
}
